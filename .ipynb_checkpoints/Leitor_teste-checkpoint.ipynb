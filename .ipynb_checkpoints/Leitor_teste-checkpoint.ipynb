{
 "cells": [
  {
   "cell_type": "markdown",
   "metadata": {},
   "source": [
    "# Lendo notas de corretagem"
   ]
  },
  {
   "cell_type": "markdown",
   "metadata": {},
   "source": [
    "Primeiro passo foi importas as bibliotecas para ajudar na tratativa dos dados e as funções já criadas:"
   ]
  },
  {
   "cell_type": "code",
   "execution_count": null,
   "metadata": {},
   "outputs": [],
   "source": [
    "import juntar_pdf as jpdf\n",
    "import df_negociation as dfn\n",
    "import df_taxas as dft\n",
    "import pandas as pd\n",
    "import time\n",
    "pd.set_option('display.max_rows',None)"
   ]
  },
  {
   "cell_type": "markdown",
   "metadata": {},
   "source": [
    "### Conversão em texto\n",
    "\n",
    "É preciso dado um diretório o código poderá ler todos os pdf's e transforma-los em texto, porém esse processo pode levar um pouco, por conta disso uma vez tendo essa linha utilizada ela é comentada. Dessa forma os objetos do python que utilizaram o texto serão salvos e não precisaremos refazer o processo de transformação de pdf em texto."
   ]
  },
  {
   "cell_type": "code",
   "execution_count": null,
   "metadata": {},
   "outputs": [
    {
     "ename": "AttributeError",
     "evalue": "'function' object has no attribute 'juntar_texto'",
     "output_type": "error",
     "traceback": [
      "\u001b[0;31m---------------------------------------------------------------------------\u001b[0m",
      "\u001b[0;31mAttributeError\u001b[0m                            Traceback (most recent call last)",
      "\u001b[0;32m<ipython-input-42-f481592ba752>\u001b[0m in \u001b[0;36m<module>\u001b[0;34m\u001b[0m\n\u001b[0;32m----> 1\u001b[0;31m \u001b[0mtexto\u001b[0m \u001b[0;34m=\u001b[0m \u001b[0mjpdf\u001b[0m\u001b[0;34m.\u001b[0m\u001b[0mjuntar_texto\u001b[0m\u001b[0;34m(\u001b[0m\u001b[0mdiretorio\u001b[0m \u001b[0;34m=\u001b[0m \u001b[0;34m'./notas'\u001b[0m\u001b[0;34m)\u001b[0m\u001b[0;34m\u001b[0m\u001b[0;34m\u001b[0m\u001b[0m\n\u001b[0m",
      "\u001b[0;31mAttributeError\u001b[0m: 'function' object has no attribute 'juntar_texto'"
     ]
    }
   ],
   "source": [
    "texto = jpdf.juntar_texto(diretorio = r'D:\\Projetos\\Leitor nota de corretagem\\notas')"
   ]
  },
  {
   "cell_type": "markdown",
   "metadata": {},
   "source": [
    "### Carregando os dados das operações das notas de corretagem\n",
    "\n",
    "Através do arquivo *df_negociation* é possível converter o texto anteriormente criado em um dataframe organizado, padronizado e pronto para ser usado através da função *build_dfneg*\n",
    "\n",
    "Como informado anteriormente o processo de carregar o texto é demorado, portanto após ele ser usado e termos o *df_negociation* pronto, podemos salva-lo em um arquivo do tipo pickle para que ele possa ser carregado posteriormente ao código. Dessa forma uma vez que os arquivos pickles já foram criados não a necessidade de manter essas linhas de código no script, por isso elas deverão ficar comentadas."
   ]
  },
  {
   "cell_type": "code",
   "execution_count": null,
   "metadata": {},
   "outputs": [],
   "source": [
    "df_negociation,negociation = dfn.build_dfneg(texto)[0:2]\n",
    "#df_negociation.to_csv(r'D:\\Projetos\\Leitor nota de corretagem\\notas\\df_negociation.csv', index=False)\n",
    "#df_negociation.to_pickle('df_negociation.pkl')\n",
    "#df_negociation = pd.read_pickle('df_negociation.pkl')"
   ]
  },
  {
   "cell_type": "markdown",
   "metadata": {},
   "source": [
    "O mesmo acontece para criar o *df_taxas* ele também terá um arquivo pickle criado para não precisarmos carregar o texto todas as vezes.\n",
    "\n",
    "Por sua vez esse dataframe utiliza o arquivo *df_taxas* e a função *build_dftx*."
   ]
  },
  {
   "cell_type": "code",
   "execution_count": null,
   "metadata": {},
   "outputs": [],
   "source": [
    "df_taxas = dft.build_dftx(texto)[0]\n",
    "#df_taxas.to_csv(r'D:\\Projetos\\Leitor nota de corretagem\\notas\\df_taxas.csv', index=False)\n",
    "#df_taxas.to_pickle('df_taxas.pkl')\n",
    "#df_taxas = pd.read_pickle('df_taxas.pkl')"
   ]
  },
  {
   "cell_type": "markdown",
   "metadata": {},
   "source": [
    "### Preparação das tabelas\n",
    "\n",
    "Inicialmente ambas as tabelas de negociação e de taxa precisam ter uma coluna a mais responsável por mostrar apenas o mês e ano da negociação ou da taxa, dessa forma essa coluna é criada e exibida abaixo:"
   ]
  },
  {
   "cell_type": "code",
   "execution_count": null,
   "metadata": {},
   "outputs": [],
   "source": [
    "# Criando nova coluna\n",
    "df_negociation.loc[:,'mes_ano'] = df_negociation.data.astype(str).str.slice(0,7)\n",
    "df_taxas.loc[:,'mes_ano'] = df_taxas.data.astype(str).str.slice(0,7)\n",
    "\n",
    "# Exibindo resultado\n",
    "print('Colunas da tabela de negociações: '+ str(list(df_negociation.columns)))\n",
    "print('Colunas da tabela de taxas: '+ str(list(df_taxas.columns)))"
   ]
  },
  {
   "cell_type": "code",
   "execution_count": null,
   "metadata": {},
   "outputs": [],
   "source": [
    "resultado = df_negociation.groupby(['mes_ano','operação','tipo_ativo'],as_index=False).sum().iloc[:,0:3]\n",
    "resultado.columns = ['Data','Operação','Tipo do ativo']\n",
    "resultado"
   ]
  },
  {
   "cell_type": "code",
   "execution_count": null,
   "metadata": {},
   "outputs": [],
   "source": [
    "saldo = pd.DataFrame(columns=['data','c/v','tipo_ativo','ativo','quantidade','preco_medio','lucro'])\n",
    "df_swing = df_negociation.loc[df_negociation.operação == 'Swing Trade',['data','tipo_ativo','ativo','quantidade','valor']]\n",
    "for indice,linha in df_swing.iterrows():\n",
    "    try:\n",
    "        # Busca data mais recente em relação a aquele ativo\n",
    "        data_recente = max(saldo.loc[saldo.ativo == linha.ativo,'data'])\n",
    "        # Busca quantidade do ativo em questão\n",
    "        quantidade = float(list(saldo.loc[(saldo.ativo == linha.ativo) & (saldo.data == data_recente),'quantidade'])[-1])\n",
    "        # Busca o preço médio do ativo \n",
    "        preco_medio = float(list(saldo.loc[(saldo.ativo == linha.ativo) & (saldo.data == data_recente),'preco_medio'])[-1])\n",
    "    except:\n",
    "        # Caso não encontre nenhum dos valores o ativo não tem quantidade e portanto não tem preço médio\n",
    "        quantidade = 0\n",
    "        preco_medio = 0\n",
    "    \n",
    "    try:\n",
    "        \"\"\"Passo a passo do calculo\"\"\"\n",
    "        # 1º Calcular valor total sob custódia do ativo: Multiplicando preço médio com a quantidade em custódia\n",
    "        # 2º Somar total em valor sob custódia com o valor gasto na última operação\n",
    "        # 3º Soma a quantidade de ativos sob custódia com a quantidade de ativos adquiridos na operação atual\n",
    "        # 4º Dividir as 2 somas tendo um novo preço médio\n",
    "        calc_pm = float((linha.valor + preco_medio * quantidade))/(linha.quantidade + quantidade)\n",
    "    except:\n",
    "        pass\n",
    "    \n",
    "    # Preço médio multiplicado com a quantidade em custódia retorna um valor negativo\n",
    "    # Com isso ao somar a receita adquirida na operação em questão conseguimos calcular o lucro\n",
    "    calc_luc = float(linha.valor + preco_medio * abs(linha.quantidade))\n",
    "    # O calculo abaixo verifica se a operação atual zera a posição\n",
    "    qtd_valid = 0 if float(linha.quantidade + quantidade) == 0 else 1\n",
    "\n",
    "    \"\"\"Cria um dicionário com os valores mais recentes em relação ao ativo\"\"\"\n",
    "                  # Data da operação em questão\n",
    "    saldo_dict = {'data':linha.data,\n",
    "                  # Tipo do ativo em questão\n",
    "                  'tipo_ativo':linha.tipo_ativo,\n",
    "                  # Caso perca ativos é uma venda, ao contrário é uma compra\n",
    "                  'c/v':'venda' if linha.quantidade < 0 else 'compra', \n",
    "                  # Ativo em questão\n",
    "                  'ativo':linha.ativo,\n",
    "                  # Quantidade sob custódia somado com a quantidade da operação\n",
    "                  'quantidade':float(linha.quantidade + quantidade),\n",
    "                  # Se a quantidade de ativos da operação for negativa então mantemos o preço médio, uma vez que o qtd_valid será 1\n",
    "                  # Exceto quando a operação atual zerou a posição, então o qtd_valid será 0, dessa forma não existirá preço médio\n",
    "                  # Se foi uma aquisição de ativos então será calculado um novo preço médio\n",
    "                  'preco_medio':float(preco_medio) * qtd_valid if linha.quantidade < 0 else calc_pm,\n",
    "                  # Terá lucro apenas se for uma venda de ativos, então a quantidade de ativos deve ser negativa\n",
    "                  'lucro':calc_luc if linha.quantidade < 0 else 0}\n",
    "    # Adicionando cada operação na lista\n",
    "    saldo = saldo.append(saldo_dict,ignore_index=True)\n",
    "\n",
    "# Para melhorar a visualização substitui os valores -0 por 0\n",
    "saldo.loc[saldo.preco_medio <= -0,'preco_medio'] = saldo.loc[saldo.preco_medio <= -0,'preco_medio']*-1\n",
    "\n",
    "# Coluna mes_ano\n",
    "saldo.loc[:,\"mes_ano\"] = saldo.data.apply(lambda x: str(x)[0:7])"
   ]
  },
  {
   "cell_type": "code",
   "execution_count": null,
   "metadata": {},
   "outputs": [],
   "source": [
    "for indice, linha in resultado.iterrows():\n",
    "    \"\"\"Laço que calcula o Imposto de Renda\"\"\"\n",
    "    taxas = df_negociation.loc[df_taxas.mes_ano == linha.Data]\n",
    "    \n",
    "    # Calculo para day trade\n",
    "    if (linha.Operação == 'Day Trade') & (linha['Tipo do ativo'] == 'Ação'):\n",
    "        negoc = df_negociation.loc[(df_negociation.mes_ano == linha.Data) & (df_negociation.operação == linha.Operação) & (df_negociation.tipo_ativo == linha['Tipo do ativo'])]\n",
    "        resultado.loc[indice,'IRRF'] = round(negoc.valor.sum()*0.01,3)\n",
    "        resultado.loc[indice,'IRPF a Recolher'] = negoc.valor.sum()*0.2 - resultado.loc[indice,'IRRF']\n",
    "        \n",
    "    # Calculo para Swing trade\n",
    "    if (linha.Operação == 'Swing Trade') & (linha['Tipo do ativo'] == 'Ação'):\n",
    "        resultado.loc[indice,'IRRF'] = round(saldo.loc[saldo.mes_ano == linha.Data,'lucro'].sum()*0.00005,3)\n",
    "        resultado.loc[indice,'IRPF a Recolher'] = round(saldo.loc[saldo.mes_ano == linha.Data,'lucro'].sum()*0.15,3) - resultado.loc[indice,'IRRF']"
   ]
  },
  {
   "cell_type": "code",
   "execution_count": null,
   "metadata": {},
   "outputs": [],
   "source": [
    "resultado.head()"
   ]
  },
  {
   "cell_type": "code",
   "execution_count": null,
   "metadata": {},
   "outputs": [],
   "source": []
  }
 ],
 "metadata": {
  "kernelspec": {
   "display_name": "Python 3",
   "language": "python",
   "name": "python3"
  },
  "language_info": {
   "codemirror_mode": {
    "name": "ipython",
    "version": 3
   },
   "file_extension": ".py",
   "mimetype": "text/x-python",
   "name": "python",
   "nbconvert_exporter": "python",
   "pygments_lexer": "ipython3",
   "version": "3.8.10"
  }
 },
 "nbformat": 4,
 "nbformat_minor": 4
}
